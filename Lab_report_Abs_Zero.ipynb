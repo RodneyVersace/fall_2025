{
 "cells": [
  {
   "cell_type": "markdown",
   "id": "3aae6ced-fb04-4c1b-9e2e-f9848000c760",
   "metadata": {},
   "source": [
    "# Absolute Zero Experiment - Report # "
   ]
  },
  {
   "cell_type": "markdown",
   "id": "4aee590f-7d13-468f-9882-58b78793bab1",
   "metadata": {},
   "source": [
    "Name:"
   ]
  },
  {
   "cell_type": "markdown",
   "id": "459265d5-3654-44cf-b562-0b2fca10e1f4",
   "metadata": {},
   "source": []
  },
  {
   "cell_type": "markdown",
   "id": "01a05f05-9996-487f-8c91-d1bdb0603917",
   "metadata": {},
   "source": [
    "## New Python/Jupiter Concepts ##"
   ]
  },
  {
   "cell_type": "markdown",
   "id": "c182a09c-2230-4108-8dc3-fee2cc90ac22",
   "metadata": {},
   "source": [
    "### Making Tables ###"
   ]
  },
  {
   "cell_type": "markdown",
   "id": "303b0676-f03f-4b1d-8d03-1701c9a9b71d",
   "metadata": {},
   "source": [
    "To create a table in Jupiter Notebook, you must be in **\"Markdown\"**. Analyze and execute (Shift + Enter) the next example:"
   ]
  },
  {
   "cell_type": "markdown",
   "id": "a7f0cfde-197d-46a4-99ac-ad0ed97ca91b",
   "metadata": {},
   "source": [
    "| Item | In Stock | Price |\n",
    "|:---------------- | :------: | ----: |\n",
    "| Python Hat | True |23.99 |\n",
    "| SQL Hat | True | 23.99 |\n",
    "| Codecademy Tee |  False   | 19.99 |\n",
    "| Codecademy Hoodie | False | 42.99 |"
   ]
  },
  {
   "cell_type": "markdown",
   "id": "82636daf-22bc-415c-ba10-26584a40b445",
   "metadata": {},
   "source": [
    "What is the use of the ':' in formatting the table?"
   ]
  },
  {
   "cell_type": "markdown",
   "id": "4503bae2-6092-4e58-b4bd-0a65dd334f75",
   "metadata": {},
   "source": []
  },
  {
   "cell_type": "markdown",
   "id": "68ebdf29-9f69-42fc-a1c1-74cd61c41460",
   "metadata": {},
   "source": [
    "Create a Table with two columns: Month and Savings.\n",
    "Column Month has three values January, February and March. \n",
    "Column Savings has three values $250, $80, and $420.\n",
    "**You must be in \"Markdown\"** "
   ]
  },
  {
   "cell_type": "code",
   "execution_count": null,
   "id": "6abad9a9-3a20-4610-9830-ee4f04731c8d",
   "metadata": {},
   "outputs": [],
   "source": []
  },
  {
   "cell_type": "markdown",
   "id": "1393bd1d-2fe6-4318-903a-f8eefd139c54",
   "metadata": {},
   "source": [
    "### The for loop ###"
   ]
  },
  {
   "cell_type": "markdown",
   "id": "6495deea-3e96-4895-9175-8c87d342e5c6",
   "metadata": {},
   "source": [
    "When you have a list or array of elements, you can apply a rule to each element by using the \"for\" loop. Analyze and execute the next piece of code."
   ]
  },
  {
   "cell_type": "code",
   "execution_count": null,
   "id": "e4ac5c97-ff24-4b72-a271-0dd5a99f9c13",
   "metadata": {},
   "outputs": [],
   "source": [
    "list1 = [2,4,5,7,8]\n",
    "\n",
    "#You want to multiply each element of list1 times 3 and then add 5.\n",
    "\n",
    "for i in list1:\n",
    "    j = (i*3) + 5\n",
    "    print(j)\n",
    "\n",
    "#Pay attention to the indentation"
   ]
  },
  {
   "cell_type": "markdown",
   "id": "dd2c3e43-df9a-4a3b-b331-833a045cd6e5",
   "metadata": {},
   "source": [
    "You can also send your new data to a new array or list by using the append command. Analyze and execute the next piece of code."
   ]
  },
  {
   "cell_type": "code",
   "execution_count": null,
   "id": "9594ef21-7d22-4158-acc7-61501d4d7b8e",
   "metadata": {},
   "outputs": [],
   "source": [
    "M = [20,35,50,70,81]\n",
    "N = [ ] # Creating an empty array\n",
    "\n",
    "for i in M:\n",
    "    j = i+273.15\n",
    "    N.append(j)\n",
    "\n",
    "print(N)"
   ]
  },
  {
   "cell_type": "markdown",
   "id": "1a171448-81f1-49b3-904b-371c590419ed",
   "metadata": {},
   "source": [
    "## Lab Report #1 ##"
   ]
  },
  {
   "cell_type": "markdown",
   "id": "0005495e-b6db-490e-a201-d5f4adf1cf37",
   "metadata": {},
   "source": [
    "1. Create an empty cell and Initialize the python libraries that you are going to use:\n",
    "\n",
    "a) Initialize the math functionality (**import math**)   \n",
    "\n",
    "b) the numpy libraries (**import numpy as np**)\n",
    "\n",
    "c) Initialize the plot libraries (**import matplotlib.pyplot as plt**)\n",
    "\n",
    "d) Initialize the statistic libraries (**from scipy import stats**)\n"
   ]
  },
  {
   "cell_type": "markdown",
   "id": "e2f75833-8ba9-4c75-bdd6-77aba61138d5",
   "metadata": {},
   "source": [
    "2. Create a data of table of your pressure and temperature measurements that you took in lab. Do not forget units!!!"
   ]
  },
  {
   "cell_type": "markdown",
   "id": "d281f112-9179-4a8a-9b9d-2118a8f54333",
   "metadata": {},
   "source": [
    "3. Input your data into the following arrays (x = Pressure, yc = Temperature in degree Celsius):"
   ]
  },
  {
   "cell_type": "code",
   "execution_count": null,
   "id": "e23238af-b2de-4874-8590-e16619a130ba",
   "metadata": {},
   "outputs": [],
   "source": [
    "x = [\n",
    "yc = [     "
   ]
  },
  {
   "cell_type": "markdown",
   "id": "25163cf4-b086-4bc7-bce2-a773b7f18198",
   "metadata": {},
   "source": [
    "4. Create an empty array called 'yk'.\n",
    "\n",
    "   Use \"the for loop\" to add 273.15 to each element of yc and send it to yk.\n",
    "\n",
    "   Print yk.\n",
    "   "
   ]
  },
  {
   "cell_type": "code",
   "execution_count": null,
   "id": "71a82dbd-cbea-442b-addd-888bca4bf6c9",
   "metadata": {},
   "outputs": [],
   "source": []
  },
  {
   "cell_type": "markdown",
   "id": "c684f562-f401-4f67-b7fe-ca39fa1e7a2b",
   "metadata": {},
   "source": [
    "The regular python arrays are different from the arrays that are used for plotting. You did this last class when you plot your sample exercise. Analyze and execute the set-up of the arrays that we are going to use to make our graphs. You need to do this only once!!!"
   ]
  },
  {
   "cell_type": "code",
   "execution_count": null,
   "id": "1c66122b-724f-478c-9e2b-2ec0990e4bbe",
   "metadata": {},
   "outputs": [],
   "source": [
    "pres=np.array(x)\n",
    "tempc=np.array(yc)\n",
    "tempk=np.array(yk)"
   ]
  },
  {
   "cell_type": "markdown",
   "id": "87e094f8-9aab-49ee-a054-eb520c7aa3f2",
   "metadata": {},
   "source": [
    "6. Now that your arrays are defined. Follow last week exercise to prepare a graph of Temperature (in Kelvin) (y-axis) vs. Pressure (x-axis). Graphs need to include a chart title, axis labels, scatter plot with best line fit, equation of the line and R^2."
   ]
  },
  {
   "cell_type": "code",
   "execution_count": null,
   "id": "ca7827a5-726b-41d5-96d7-36bf1368179e",
   "metadata": {},
   "outputs": [],
   "source": []
  },
  {
   "cell_type": "markdown",
   "id": "ad3fd197-fa04-4d2b-8eed-d88b9eff6bd1",
   "metadata": {},
   "source": [
    "7. Calculate the percent error (using python!!!). Use the following formula:\n",
    "\n",
    "%Error = ((Experimental Number – Actual Number)/ Actual number) x 100.\n",
    "\n",
    "Because your actual value is 0 kelvin, **make the calculation in Celsius instead!!!**\n",
    "\n",
    "Actual value: -273.15 C."
   ]
  },
  {
   "cell_type": "code",
   "execution_count": null,
   "id": "ad810ae7-09eb-415e-bb83-a34dafaff046",
   "metadata": {},
   "outputs": [],
   "source": []
  },
  {
   "cell_type": "markdown",
   "id": "cdec2d7c-5273-43df-a063-b334862108f9",
   "metadata": {},
   "source": [
    "## Table of Results ##"
   ]
  },
  {
   "cell_type": "markdown",
   "id": "877439c4-6174-46a3-8a32-00074bba1a16",
   "metadata": {},
   "source": [
    "Create a table showing your experimental value of Absolute Zero +/- std_error, your percent error, your R^2.  \n",
    "\n",
    "To obtain the std_error execute the following command, your std_error is the intercept_stderr. "
   ]
  },
  {
   "cell_type": "code",
   "execution_count": null,
   "id": "b1a8236a-7a76-4d9e-ad39-56e0f74acf8a",
   "metadata": {},
   "outputs": [],
   "source": [
    "stats.linregress(pres,tempk)"
   ]
  },
  {
   "cell_type": "code",
   "execution_count": null,
   "id": "e0b80c6c-d3a1-4dcd-a84b-77a2b7390e20",
   "metadata": {},
   "outputs": [],
   "source": []
  },
  {
   "cell_type": "markdown",
   "id": "0154cbd7-79c7-4134-9d5a-88ed779086c8",
   "metadata": {},
   "source": [
    "## Questions ##"
   ]
  },
  {
   "cell_type": "markdown",
   "id": "f2e18d6d-1aad-43f0-9c3c-dd90a34f9275",
   "metadata": {},
   "source": [
    "1) Which variables from the ideal gas equation are being held constant in this experiment and which are changing?  Do you think the ones being held constant are really constant?  Why or why not?"
   ]
  },
  {
   "cell_type": "markdown",
   "id": "251b0132-f163-4bd2-836d-61a8e96f3ede",
   "metadata": {},
   "source": []
  },
  {
   "cell_type": "markdown",
   "id": "92792138-c7ed-4705-bb65-c4998ca9477b",
   "metadata": {},
   "source": [
    "2. Why we haven't plotted the temperature in the x axis? (think about what you were being asked to find and how you got it)?"
   ]
  },
  {
   "cell_type": "markdown",
   "id": "9e81a6f1-2a2f-4a28-a926-8b74fce79cf8",
   "metadata": {},
   "source": []
  },
  {
   "cell_type": "markdown",
   "id": "46a23a1f-2f5b-4846-a169-159b66fbfe8a",
   "metadata": {},
   "source": [
    "3.\tAlthough we have liquid nitrogen available (-196 C), we did not use it.  Why?"
   ]
  },
  {
   "cell_type": "markdown",
   "id": "abe2d17f-0bc0-4039-ac8b-69bd8ef4d6ac",
   "metadata": {},
   "source": []
  },
  {
   "cell_type": "markdown",
   "id": "871952d1-d9bb-4a18-94c5-5017d3dbe6ed",
   "metadata": {},
   "source": [
    "4. Do you expect your data to be more accurate at high or low temperatures?  Why?"
   ]
  },
  {
   "cell_type": "markdown",
   "id": "4bc3a7c3-7989-49e0-87db-50bb44515b3c",
   "metadata": {},
   "source": []
  },
  {
   "cell_type": "markdown",
   "id": "65a238e8-aad8-471d-8f43-64bbf7abaaf5",
   "metadata": {},
   "source": [
    "5. If you did the plot in degrees Celsius instead of Kelvin. Would you have gotten the same results?\n",
    "   Support your answer by plotting again but this time use the temperature in celsius. You don't need to do the whole plot only until the part where you obtain the intercept.  "
   ]
  },
  {
   "cell_type": "markdown",
   "id": "1ebd1690-83af-48be-9ef3-b4d3c4a1cd18",
   "metadata": {},
   "source": []
  }
 ],
 "metadata": {
  "kernelspec": {
   "display_name": "Python 3 (ipykernel)",
   "language": "python",
   "name": "python3"
  },
  "language_info": {
   "codemirror_mode": {
    "name": "ipython",
    "version": 3
   },
   "file_extension": ".py",
   "mimetype": "text/x-python",
   "name": "python",
   "nbconvert_exporter": "python",
   "pygments_lexer": "ipython3",
   "version": "3.12.4"
  }
 },
 "nbformat": 4,
 "nbformat_minor": 5
}
