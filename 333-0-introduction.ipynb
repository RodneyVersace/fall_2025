{
 "cells": [
  {
   "cell_type": "markdown",
   "id": "382befeb",
   "metadata": {},
   "source": [
    "# Chemistry 333: Physical Chemistry I Lab\n",
    "## Fall 2024\n",
    "Dr. Rodney Versace, Sacred Heart University\n",
    "\n",
    "\n",
    "Before we start, go to File->Make a Copy. Then add your name to the notebook filename (just preferred name at the end is fine). You will want to periodically save this copy as we go through the exercise."
   ]
  },
  {
   "cell_type": "markdown",
   "id": "6cb5ccc9",
   "metadata": {},
   "source": [
    "## Introduction\n",
    "Welcome to Physical Chemistry lab! Throughout the semester, we will be doing a variety of experimental and theoretical labs convering concepts in quantum mechanics, spectroscopy, thermodynamics, and kinetics. All of these will involve (potentially large) sets of data. One of the main goals of this course is to introduce you to a new way to manage your scientific data. Rather than using something like Excel, in 333 we will be using python! I like python because:\n",
    "- It is extensible. What I mean is, we don't really need to do a whole lot of additional work ourselves if we work with a few values or 100 TB of data.\n",
    "- It is flexible. We can do so many things with python in a very customizable way, including statistics and data visualization.\n",
    "- It is fairly easy to work with. In my opinion, using python is as easy as doing anything in excel. One reason is that there are so many online resources, the most important being stackoverflow.com.\n",
    "- It is transferable. Data is in every field, and tools involving python are becoming more commonplace in a variety of industries.\n",
    "- Oh, and its completely free!\n",
    "\n",
    "Don't worry, you do not need any experience in python, though there is a (hopefully small) learning curve to get started. I find that using tools in python/jupyter notebook allows the computer to do more work, and the user (me) to focus more on the chemistry. The purpose of this notebook activity is to provide an introduction to using python and jupyter notebooks to do the kinds of tasks we will perform throughout the semester."
   ]
  },
  {
   "cell_type": "markdown",
   "id": "14a7f66e",
   "metadata": {},
   "source": [
    "## Imports\n",
    "\n",
    "Before we start, its important to cover a few things about python tools. The python language itself includes already a lot of functions, but external modules exist that have more complicated functions that we may use. These include things like plotting/visualization software and even some complicated mathematical routines. To access these, we need to **import** to corresponding module. In the notebooks in this course, I will provide all of the imports we need.\n",
    "\n",
    "For this assignment, we only need a few:"
   ]
  },
  {
   "cell_type": "code",
   "execution_count": null,
   "id": "9d6602f4",
   "metadata": {},
   "outputs": [],
   "source": [
    "import math # for some additional math functionality\n",
    "import numpy as np # math/data functions, we'll rename it np since that's more convenient"
   ]
  },
  {
   "cell_type": "markdown",
   "id": "bdc13c2d",
   "metadata": {},
   "source": [
    "## Assigment\n",
    "\n",
    "This notebook will guide you through several activities to introduce and practice some essential python/jupyter skills. In the assignment, you will need to write and execute code as indicated, and there are some brief written components. If you have questions, ask me, ask a friend, ask the internet, but please, try to work things out on your own first. To turn in this assignment, you will need to save the jupyter notebook (file type is .ipynb which stands for **I**nteractive **PY**thon **N**ote**B**ook) and uploaded to the **Blackboard** by the start of lab next week. It is very possible you finish during lab time, so you can upload it today if you want!"
   ]
  },
  {
   "cell_type": "markdown",
   "id": "a030d6f7",
   "metadata": {},
   "source": [
    "### 1) Making Written Responses\n",
    "\n",
    "In typical labs, I will have a few questions for you to answer about the results of the experiment. You will answer them in the box that follows, and then hit SHIFT+ENTER to \"run\" that box, making it look like nice text. Lets try some.\n",
    "\n",
    "#### Question 1: What is your preferred name?"
   ]
  },
  {
   "cell_type": "markdown",
   "id": "20731e76",
   "metadata": {},
   "source": []
  },
  {
   "cell_type": "markdown",
   "id": "05c78af7",
   "metadata": {},
   "source": [
    "#### Question 2: Have you ever used Python before? If so, when?"
   ]
  },
  {
   "cell_type": "markdown",
   "id": "4183cf32",
   "metadata": {},
   "source": []
  },
  {
   "cell_type": "markdown",
   "id": "02daef42",
   "metadata": {},
   "source": [
    "#### Question 3: If yes, did you like it?"
   ]
  },
  {
   "cell_type": "markdown",
   "id": "cbff0c19",
   "metadata": {},
   "source": []
  },
  {
   "cell_type": "markdown",
   "id": "5d95c689-60c3-4e62-a851-a42d150749ef",
   "metadata": {},
   "source": [
    "**Creating a cell**:\n",
    "To create a new cell below the active cell, press B,for below, or the plus button in the Notebook top bar. The newly created cell becomes the active cell. We can also create a new cell above the active cell by pressing A, for above (there is no corresponding top bar button).\n",
    "\n",
    "If you want to compose a text, like an introduction or abstract or give some explanation, check the top bar that the word \"Markdown\" (and not \"Code\") is selected, if not, you can manually change it.\n",
    "\n",
    "For Questions 4 and 5, create your own cell, choose \"Markdown\" on the top bar, answer the questions and don't forget to hit SHIFT+ENTER to \"run\" the box."
   ]
  },
  {
   "cell_type": "markdown",
   "id": "3026a32b",
   "metadata": {},
   "source": [
    "#### Question 4: What is your declared major? "
   ]
  },
  {
   "cell_type": "markdown",
   "id": "43ab4d1b",
   "metadata": {},
   "source": [
    "#### Question 5: What career goals do you have after Iona?"
   ]
  },
  {
   "cell_type": "markdown",
   "id": "017e28bd-b31b-4963-95ca-4bded12afe08",
   "metadata": {},
   "source": [
    "When you write python code (also known as program), text should be enclosed in double or single quotes.\n",
    "The command print() is to print a text, answer, variable for the user to see. The command input() is when the system is expecting a reply from the user. \n",
    "Execute the following examples, realize that the top bar is showing the word \"Code\":"
   ]
  },
  {
   "cell_type": "code",
   "execution_count": null,
   "id": "508060cb-7e48-49ec-a1c6-adda2bf365e4",
   "metadata": {},
   "outputs": [],
   "source": [
    "print(\"One Ring to rule them all, One Ring to find them, One Ring to bring them all, and in the darkness bind them\")"
   ]
  },
  {
   "cell_type": "code",
   "execution_count": null,
   "id": "6729c8b9-dfaa-4636-87d7-32527699daaa",
   "metadata": {},
   "outputs": [],
   "source": [
    "input(\"How many dogs you have?\")"
   ]
  },
  {
   "cell_type": "markdown",
   "id": "39f8c66e",
   "metadata": {},
   "source": [
    "### 2) Python Printing, Variables, and Some Simple Math\n",
    "Now, we'll execute the boxes as snippets of python code, again with SHIFT+ENTER."
   ]
  },
  {
   "cell_type": "code",
   "execution_count": null,
   "id": "2d4ddb36",
   "metadata": {
    "scrolled": true
   },
   "outputs": [],
   "source": [
    "# To print in python, simply pass what you want printed to the print() function\n",
    "# the classic example\n",
    "print(\"Hello World!\")\n",
    "\n",
    "# We can also print numbers\n",
    "print(7)\n",
    "print(2+2*8)\n",
    "print(3**2)\n",
    "print(math.pi)"
   ]
  },
  {
   "cell_type": "code",
   "execution_count": null,
   "id": "31d50e53-dfb3-4f29-9c42-d2313eaa31f4",
   "metadata": {},
   "outputs": [],
   "source": [
    "#Sometimes its helpful to do math with variables:\n",
    "a = 20\n",
    "b = 4\n",
    "print(a*b)"
   ]
  },
  {
   "cell_type": "code",
   "execution_count": null,
   "id": "2d1ce4e0-618f-4338-8f09-3e034335abb7",
   "metadata": {},
   "outputs": [],
   "source": [
    "### BEGIN ASSIGNMENT \n",
    "\n",
    "## Sometimes assigned pieces will be done as comments like this.\n",
    "## I'll always mark places where you need to add any code\n",
    "## For example, finish the following code\n",
    "## by computing and printing the volume of a box\n",
    "\n",
    "# box width, unit is meters\n",
    "w = 2.28\n",
    "# and the length\n",
    "l = 3.33\n",
    "# and height\n",
    "h = 1.159\n",
    "\n",
    "volume = \n",
    "\n",
    "\n",
    "### END ASSIGNMENT"
   ]
  },
  {
   "cell_type": "markdown",
   "id": "2c714ede",
   "metadata": {},
   "source": [
    "### 3) Functions\n",
    "Functions are useful if you need to do anything more than once. For example, we could define a function to compute the area of any box, given a length, height, and width:"
   ]
  },
  {
   "cell_type": "code",
   "execution_count": null,
   "id": "c1bda073",
   "metadata": {},
   "outputs": [],
   "source": [
    "def box_volume(length, height, width):\n",
    "    volume = length * height * width\n",
    "    return volume # this is the value the function gives us\n",
    "    \n",
    "## lets test it out\n",
    "print(\"Box 1 volume:\")\n",
    "print(box_volume(12.3,3.3,4.8))\n",
    "\n",
    "print(\"Volume of some cube:\")\n",
    "print(box_volume(13.3,13.3,13.3))"
   ]
  },
  {
   "cell_type": "markdown",
   "id": "fcbd4f6d",
   "metadata": {},
   "source": [
    "In the next cell, write a function that computes the distance between two points, given the xyx coordinates of each point. I'll provide an extremely basic template"
   ]
  },
  {
   "cell_type": "code",
   "execution_count": null,
   "id": "f5e9c85b",
   "metadata": {},
   "outputs": [],
   "source": [
    "def compute_distance ():\n",
    "    \n",
    "    \n",
    "    distance = \n",
    "    \n",
    "    return distance"
   ]
  },
  {
   "cell_type": "markdown",
   "id": "4344e88b",
   "metadata": {},
   "source": [
    "### 4) Objects\n",
    "Python has several very useful objects, like arrays and dictionaries."
   ]
  },
  {
   "cell_type": "code",
   "execution_count": null,
   "id": "8c39f6c6",
   "metadata": {},
   "outputs": [],
   "source": [
    "# an array is simple to make, and it can contain values of any type:\n",
    "my_array = [2,3,4,5]\n",
    "\n",
    "# a dictionary is like an array, but each value has a key\n",
    "my_dictionary = {\"Name\":\"Legolas\", \"Race\":\"Elf\", \"Height\":\"Tall\"}\n",
    "\n",
    "# Can have numbers as well, but not the keys\n",
    "box_dimensions = {\"length\":3.22, \"width\":4.309, \"height\":11.6}"
   ]
  },
  {
   "cell_type": "markdown",
   "id": "e4341e41",
   "metadata": {},
   "source": [
    "We access arrays by the index, and the counting starts at zero. So, we can print a few of the values of our array by using:"
   ]
  },
  {
   "cell_type": "code",
   "execution_count": null,
   "id": "723e42fe",
   "metadata": {},
   "outputs": [],
   "source": [
    "print(my_array[0], my_array[1])"
   ]
  },
  {
   "cell_type": "markdown",
   "id": "fa4d4c3d",
   "metadata": {},
   "source": [
    "or the whole array:"
   ]
  },
  {
   "cell_type": "code",
   "execution_count": null,
   "id": "5a1ad3a5",
   "metadata": {},
   "outputs": [],
   "source": [
    "print(my_array)"
   ]
  },
  {
   "cell_type": "markdown",
   "id": "90a86736",
   "metadata": {},
   "source": [
    "In the next cell, lets rewrite our distance function using arrays. I'll provide a little more guidance: "
   ]
  },
  {
   "cell_type": "code",
   "execution_count": null,
   "id": "434faf08",
   "metadata": {},
   "outputs": [],
   "source": [
    "def compute_distance_array(coords1, coords2):\n",
    "        #'Computes the distance between points'\n",
    "        # coords1 is an array in the format [x,y,z] for point 1\n",
    "        # coords2 is an array in the format [x,y,z] for point 2\n",
    "        \n",
    "        x1 = coords1[]\n",
    "        y1 = coords1[]\n",
    "        z1 = coords1[]\n",
    "    \n",
    "    \n",
    "        x2 = \n",
    "        y2 = \n",
    "        z2 =\n",
    "        \n",
    "        distance =\n",
    "\n",
    "        return distance"
   ]
  },
  {
   "cell_type": "markdown",
   "id": "623dd495",
   "metadata": {},
   "source": [
    "Next, test your function on the points below:"
   ]
  },
  {
   "cell_type": "code",
   "execution_count": null,
   "id": "1a23377a",
   "metadata": {},
   "outputs": [],
   "source": [
    "c1 = [2.2, 3.4, 50]\n",
    "c2 = [40.1,22.0,100.9]"
   ]
  },
  {
   "cell_type": "code",
   "execution_count": null,
   "id": "392f5fab-4713-493e-94f9-4f991c1fe177",
   "metadata": {},
   "outputs": [],
   "source": [
    "#Let's practice dictionaries!!!\n",
    "\n",
    "car =\t{\n",
    "  \"brand\": \"VW\",\n",
    "  \"model\": \"Beetle\",\n",
    "  \"year\": 1982\n",
    "}\n",
    "#Print an object\n",
    "print(car[\"model\"])\n",
    "\n",
    "#Print all the keys\n",
    "print(car.keys())\n",
    "\n",
    "#Print all the values\n",
    "print(car.values())"
   ]
  },
  {
   "cell_type": "code",
   "execution_count": null,
   "id": "d44ceccb-9cd5-4d42-bc7f-34d44d65f863",
   "metadata": {},
   "outputs": [],
   "source": [
    "#add one object\n",
    "car[\"color\"] = \"red\"\n",
    "\n",
    "print(car) #after the change "
   ]
  },
  {
   "cell_type": "markdown",
   "id": "056f4344",
   "metadata": {},
   "source": [
    "### 5) Plotting and making a linear regression\n",
    "For nearly every lab, we will want to plot data. In this example, we will compute a the density of an unkown compound. "
   ]
  },
  {
   "cell_type": "markdown",
   "id": "75919e9a",
   "metadata": {},
   "source": [
    "#### Step 1: Initialize some more programs\n",
    "Even if they are already initialize, but for this exercise, initialize them again: \n",
    "1) Initialize the math\n",
    "2) the numpy libraries\n",
    "3) Initialize the **import matplotlib.pyplot as plt**, which is the software we will use to plot.\n",
    "4) Initialize the statistic libraries to perform the regression (**from scipy import stats**)"
   ]
  },
  {
   "cell_type": "markdown",
   "id": "a1a87944",
   "metadata": {},
   "source": [
    "#### Step 2: Select a range of intermolecular distances\n",
    "Create your array \"mass\" (this should be your y axis, with values 1,4,5,8,11) and \"volume\" (this should be your x axis with values 2,4,5,7,10)\n",
    "\n",
    "Note: for regular coding, creating an array should be x=[1,2,3] but for plotting we should use the command np.array(): x=np.array([1,2,3])"
   ]
  },
  {
   "cell_type": "markdown",
   "id": "0f9d7b22-9672-4bab-bd3b-9a50891ffe0c",
   "metadata": {},
   "source": [
    "#### Step 3: make an scatter plot\n",
    "Use plt.scatter(your x array, your y array)"
   ]
  },
  {
   "cell_type": "markdown",
   "id": "d506f884-1aa5-4c9c-af09-209191585961",
   "metadata": {},
   "source": [
    "**Step 4: make the linear regression (trendline)**\n",
    "Use the command: stats.linregress(your x, your y) to perform the calculation of the linear regression (not the plot). \n",
    "This will show you six values:\n",
    "\n",
    "1) slope\n",
    "2) intercept\n",
    "3) rvalue\n",
    "4) pvalue\n",
    "5) stderr\n",
    "6) intercept_stderr \n",
    "\n",
    "**You don't need to create a new cell for this step, continue using the cell created in \"step 3\"**\n",
    "\n"
   ]
  },
  {
   "cell_type": "markdown",
   "id": "86e4f7c7-13c3-4eca-a232-ec256ee69c41",
   "metadata": {},
   "source": [
    "## Create an array name linreg and add these six values by doing:\n",
    "### Initialize the array:   linreg=[]\n",
    "### Send the six values into the array:  linreg = stats.linregress(mass, volume)\n",
    "\n",
    "Remember inside the array the count starts in ZERO. Example linreg[0] contains slope, linreg[1] contains the intersept in y, and linreg[2], the rvalue. You can test them by printing for example print(linreg[1]) this should print the intercept.  \n",
    "\n",
    "**You don't need to create a new cell for this step, continue using the cell created in \"step 3\"**"
   ]
  },
  {
   "cell_type": "markdown",
   "id": "f58413e8-2bb4-4aa2-9066-26bd8852bf30",
   "metadata": {},
   "source": [
    "To plot the trendline, we will use the following expresion, because y = mx +b instead of 'y' we will use mx + b. \n",
    "plt.plot(x,mx+b) replace you variable for the slope and the intercept\n",
    "\n",
    "**You don't need to create a new cell for this step, continue using the cell created in \"step 3\"**"
   ]
  },
  {
   "cell_type": "markdown",
   "id": "4a9da8a5-3575-4896-8dd3-d6f3f5ff381a",
   "metadata": {},
   "source": [
    "**Labeling your axis and trendline**\n",
    "\n",
    "**You don't need to create a new cell for this step, continue using the cell created in \"step 3\"**\n",
    "\n",
    "For the eq of the line:   \"y=%fx+%f\"%(slope,intercept) \n",
    "\n",
    "The first %f means that there is a decimal number (float) that is linked to the first argument inside the parenthesis (slope). \n",
    "\n",
    "The second %f means that there is a decimal number (float) that is linked to the second argument inside the parenthesis (intercept). \n",
    "\n",
    "If you want to control how many decimal digits you want to keep then write: \"y=%.3fx+%.3f\"%(slope,intercept) (three digits after the dot). \n",
    "\n",
    "To insert the equation inside the plot:\n",
    "\n",
    "plt.annotate(\"y=%.3fx+%.3f\"%(slope,intercept), xy=(0.15,0.7),xycoords='figure fraction')\n",
    "\n",
    "Figure fraction is normalizing the x and y axis to 100%. Then it says that at 15% in x and 70% in y the equation will be writen. You can modifify those values.\n",
    "\n",
    "Lets add the R^2 value:\n",
    "\n",
    "plt.annotate(\"y=%.3fx+%.3f**\\nR$^2$=%.3f\\n**\"%(slope,intercept,rvalue**2), xy=(0.15,0.7),xycoords='figure fraction')\n",
    "\n",
    "\"\\n\" means go to a new line.\n",
    "\n",
    "Now you can label your axis or put a title in the plot:\n",
    "\n",
    "plt.title(\"Density Unknown Compound\")\n",
    "plt.xlabel(\"Volume (mL)\")\n",
    "plt.ylabel(\"Mass (g)\")\n",
    "\n",
    "At the end type \"plt.show()\" to print the final version"
   ]
  },
  {
   "cell_type": "markdown",
   "id": "829ba310-304d-49e1-82ce-8d0918d2fcbc",
   "metadata": {},
   "source": [
    "**6) FINAL ASSIGNMENT**\n",
    "\n",
    "Follow the steps from 5. To plot the following data:\n",
    "\n",
    "x = 80, 85, 90, 95, 100, 105, 110, 115, 120, 125\n",
    "y = 240, 250, 260, 270, 280, 290, 300, 310, 320, 330\n",
    "\n",
    "Title: Sports Watch Data\"\n",
    "x label: Average Pulse\n",
    "y label: Calorie Burnage\n",
    "\n",
    "The equation of the line, the r^2 and the label of each axis must be shown!!!"
   ]
  },
  {
   "cell_type": "markdown",
   "id": "c05d05f9",
   "metadata": {},
   "source": [
    "#### To turn this notebook in:\n",
    "   - Be sure your notebook is save as described at the beginning of this document.\n",
    "   - Go to File->Download as->Notebook (ipynb)\n",
    "   - Generate a pdf of this page. The easiest way to do this is with File->Print Preview and saving that.\n",
    "   - Upload both files into BlackBoard."
   ]
  }
 ],
 "metadata": {
  "kernelspec": {
   "display_name": "Python 3 (ipykernel)",
   "language": "python",
   "name": "python3"
  },
  "language_info": {
   "codemirror_mode": {
    "name": "ipython",
    "version": 3
   },
   "file_extension": ".py",
   "mimetype": "text/x-python",
   "name": "python",
   "nbconvert_exporter": "python",
   "pygments_lexer": "ipython3",
   "version": "3.12.4"
  }
 },
 "nbformat": 4,
 "nbformat_minor": 5
}
