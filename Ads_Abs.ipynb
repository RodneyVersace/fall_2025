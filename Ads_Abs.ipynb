{
 "cells": [
  {
   "cell_type": "markdown",
   "id": "5a040221-51bf-4ef9-9f9a-f109937fb132",
   "metadata": {},
   "source": [
    "# Adsorption of Methylene Blue by Charcoal using Absorbance spectroscopy #"
   ]
  },
  {
   "cell_type": "markdown",
   "id": "33b4bc33-6759-460a-8437-5779abfdf54f",
   "metadata": {},
   "source": [
    "# New Python/Jupiter Concepts #\n",
    "\n",
    "1) To make plots with connecting lines instead of scatter:\n",
    "\n",
    "    plt.plot(x,y,marker='o', color='r')\n",
    "\n",
    "    Where: marker is to see the points, otherwise it will be just a line.\n",
    "   \n",
    "    color is OPTIONAL and let you choose what color you want for the line (e.g. green = 'g', red = 'r', etc)\n",
    "           \n",
    "\n",
    "2) To scale the axis:\n",
    "\n",
    "   plt.axis([x1, x2, y1, y2])\n",
    "\n"
   ]
  },
  {
   "cell_type": "markdown",
   "id": "8459c527-b7ee-4ffc-ad69-51795097996c",
   "metadata": {},
   "source": [
    "## Lab Report #3 ##"
   ]
  },
  {
   "cell_type": "markdown",
   "id": "cfad8a4a-5d38-4cf4-a29d-fa38a2c738fa",
   "metadata": {},
   "source": [
    "***Debugging Advice:*** Print each step to make sure that it is working. It will make your life easy when you get stuck in a step."
   ]
  },
  {
   "cell_type": "markdown",
   "id": "690c2abd-c6e4-42af-b176-08ce6f8b5331",
   "metadata": {},
   "source": [
    "1. Create an empty cell and Initialize the 4 python libraries that you are going to use"
   ]
  },
  {
   "cell_type": "markdown",
   "id": "1568ca3d-6fc3-4a9a-aa4b-2c4928b49509",
   "metadata": {},
   "source": [
    "2. Create two list and fill them up with your data (time and absorbance) (include sample zero)"
   ]
  },
  {
   "cell_type": "markdown",
   "id": "52130877-4582-4604-bce5-1db7f3119916",
   "metadata": {},
   "source": [
    "3. a) Create an empty list called M\n",
    "   \n",
    "   b) Using the for loop and the Beer's Law calculate the concentration for each absorbance and append it to M.\n",
    "\n",
    "   Molar absorptivity = 6710 1/M 1/cm.\n",
    "   \n",
    "   Pathlength = 1 cm"
   ]
  },
  {
   "cell_type": "markdown",
   "id": "c61793ad-3a88-4f98-9e89-b50f4604c1a7",
   "metadata": {},
   "source": [
    "4. a) Create an empty list called C\n",
    "   \n",
    "   b) Use the for loop to calculate the concentration adsorbed by the adsorbate (M0 - M) and append it to C."
   ]
  },
  {
   "cell_type": "markdown",
   "id": "f00a8b06-e9d5-46f8-93f8-2f8ec3729afd",
   "metadata": {},
   "source": [
    "5. a) create an empty list called q\n",
    "\n",
    "    b) Use the for loop to calculate the capacity of adsorption and append it to q."
   ]
  },
  {
   "cell_type": "markdown",
   "id": "fb458d75-90aa-42e1-a664-afca02f1ba65",
   "metadata": {},
   "source": [
    "6. a) create two empty lists called logq and logc\n",
    "\n",
    "    b) Use the for loop to calculate the log in base 10 for each value of q and C and append it to logq and logc respectively.\n",
    "\n"
   ]
  },
  {
   "cell_type": "markdown",
   "id": "d3e2b6e6-6fc0-45d8-b0bd-8f473a0a62a2",
   "metadata": {},
   "source": [
    "7. a) create an empty list called P\n",
    "\n",
    "    b) Use the for loop to calculate the percent of adsorption and append it to P.\n",
    "\n",
    "\n",
    "   The formula for percent of adsorption = (C/M0)*100 "
   ]
  },
  {
   "cell_type": "markdown",
   "id": "5d4f95f6-e9da-4085-8388-52be23cbe00a",
   "metadata": {},
   "source": [
    "8. Plot with connecting lines (Do not do regresion) percent of adsorbtion (in y) vs time in minutes (in x).\n",
    "\n",
    "   Make sure the y axis goes from 0 to 100 % and the x axis from 0 to 60 min"
   ]
  },
  {
   "cell_type": "markdown",
   "id": "09ec265c-ca2a-408a-8bc7-bfa46b34841d",
   "metadata": {},
   "source": [
    "9. Plot the linear version of the Freundlich Isotherm, do the linear regression and calculate the slope and intercept."
   ]
  },
  {
   "cell_type": "markdown",
   "id": "b2a5956e-9b5d-4349-85d7-8bfa669c0104",
   "metadata": {},
   "source": [
    "10. Calculate the Freundlich parameters"
   ]
  },
  {
   "cell_type": "markdown",
   "id": "760c130f-fddf-4c86-a9c2-fb999d7159d5",
   "metadata": {},
   "source": [
    "11. Prepare all the variables you need AND plot the Langmuir Isotherm (linear version) "
   ]
  },
  {
   "cell_type": "markdown",
   "id": "e909761f-fd3e-4e3d-abad-4606f09caebe",
   "metadata": {},
   "source": [
    "12. Only if Langmuir applies to your system, then calculate the Langmuir parameters"
   ]
  },
  {
   "cell_type": "markdown",
   "id": "fa389906-af06-42da-af2f-53bc1e942d45",
   "metadata": {},
   "source": [
    "13. Create a Table of Results where you show the R^2 values and the Langmuir (if applicable) and Frendlich parameters"
   ]
  },
  {
   "cell_type": "markdown",
   "id": "33506bf4-f3f6-43b9-9255-0c30db00e705",
   "metadata": {},
   "source": [
    "14. Write a discussion about the experiment. The discussion should include answer to the following:\n",
    "\n",
    "    a) discuss about which isotherm your experiment follows\n",
    "\n",
    "    b) discuss the plot percent of adsorption vs time\n",
    "\n",
    "    c) What is the effect of the stirring velocity or turbulence in the adsorption process?"
   ]
  },
  {
   "cell_type": "markdown",
   "id": "329aee9d-376a-4d8f-bbe0-92bb960ec2b7",
   "metadata": {},
   "source": [
    "15. Your feedback:\n",
    "    If you have to choose between experiment 2 and experiment 3, which one will you keep and why? (exp 2, exp3 or both). (Consider the folowing factors: which one you like the most?, which one you consider more important for your learning?)\n",
    "      "
   ]
  },
  {
   "cell_type": "code",
   "execution_count": null,
   "id": "d65669c9-7585-4914-8438-4e91ffcc7b8f",
   "metadata": {},
   "outputs": [],
   "source": []
  }
 ],
 "metadata": {
  "kernelspec": {
   "display_name": "Python 3 (ipykernel)",
   "language": "python",
   "name": "python3"
  },
  "language_info": {
   "codemirror_mode": {
    "name": "ipython",
    "version": 3
   },
   "file_extension": ".py",
   "mimetype": "text/x-python",
   "name": "python",
   "nbconvert_exporter": "python",
   "pygments_lexer": "ipython3",
   "version": "3.12.4"
  }
 },
 "nbformat": 4,
 "nbformat_minor": 5
}
