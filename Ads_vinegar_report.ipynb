{
 "cells": [
  {
   "cell_type": "markdown",
   "id": "5a040221-51bf-4ef9-9f9a-f109937fb132",
   "metadata": {},
   "source": [
    "# Adsorption of Acetic Acid by Charcoal - Report #"
   ]
  },
  {
   "cell_type": "markdown",
   "id": "b69894dd-8abe-4acf-98b7-b51bbb555d3b",
   "metadata": {},
   "source": [
    "## New Python/Jupiter Concepts ##"
   ]
  },
  {
   "cell_type": "markdown",
   "id": "af700fc5-bf78-4563-b13c-aabae64a4618",
   "metadata": {},
   "source": [
    "### The for loop (Part 2) ###"
   ]
  },
  {
   "cell_type": "markdown",
   "id": "65549d2f-f6d0-4021-8c15-8efababa5622",
   "metadata": {},
   "source": [
    "You saw in Part 1 the following construction:\n",
    "\n",
    "list1 = [several elements]\n",
    "\n",
    "for i in list1:  ***(For each element in list1 do ... )***\n",
    "    \n",
    "    print(i)\n",
    "\n",
    "The problem with that construction is that it is valid for the elements in list1 ***ONLY***. But what happens if you have several lists all of them with the same amount of elements, and you want to relate all the element1, and all the element2 and so on:\n",
    "\n",
    "list1 = [several elements]\n",
    "list2 = [several elements]\n",
    "list3 = [several elements]\n",
    "\n",
    "for i in range(0,len(list1)): ***(For each element in the range between zero (the first element) to the last element of list1. Actually you dont need to write the zero, you can just write  range(len(list1)), but if you want to start from a different element then range(2,len(list1))***\n",
    "\n",
    "***Execute the following loops, pay attention to each construction:***"
   ]
  },
  {
   "cell_type": "code",
   "execution_count": null,
   "id": "bdb8677c-1743-4365-a4c4-c5a47014ad48",
   "metadata": {},
   "outputs": [],
   "source": [
    "a = [23.3, 24.5, 27.6, 30.3]\n",
    "b = [100, 200, 90, 110]\n",
    "c = [2,3,2,1]\n",
    "\n",
    "for i in range(0,len(a)):\n",
    "    print(i, a[i])    #this will print the value of i followed by the value of a\n",
    "\n",
    "print(\"\\n\") #this will print an empty line\n",
    "\n",
    "for i in range(1,len(a)):\n",
    "    print(i, a[i])    #this will print the value of i followed by the value of a starting from the second element\n",
    "\n",
    "print(\"\\n\")\n",
    "\n",
    "for i in range(0,len(a)):\n",
    "    j = a[i]*b[i]/c[i]  #it will do for all the first elements, then the second one, then the third and so on\n",
    "    print(j)"
   ]
  },
  {
   "cell_type": "markdown",
   "id": "ecac3d47-6fff-45cc-bcc5-698c30fba463",
   "metadata": {},
   "source": [
    "### The ln()/log() function ###"
   ]
  },
  {
   "cell_type": "markdown",
   "id": "e2e64cd7-a409-4cd5-8ea1-a8d5f3c9613a",
   "metadata": {},
   "source": [
    "The ln function is called by log()\n",
    "example:  log(0.2) or log(list1)\n",
    "\n",
    "The log function is called by log(list,10)\n",
    "example: log(0.2,10) or log(list1,10)\n",
    "\n"
   ]
  },
  {
   "cell_type": "markdown",
   "id": "8459c527-b7ee-4ffc-ad69-51795097996c",
   "metadata": {},
   "source": [
    "## Lab Report #2 ##"
   ]
  },
  {
   "cell_type": "markdown",
   "id": "cfad8a4a-5d38-4cf4-a29d-fa38a2c738fa",
   "metadata": {},
   "source": [
    "***Debugging Advice:*** Print each step to make sure that it is working. It will make your life easy when you get stuck in a step."
   ]
  },
  {
   "cell_type": "markdown",
   "id": "690c2abd-c6e4-42af-b176-08ce6f8b5331",
   "metadata": {},
   "source": [
    "1. Create an empty cell and Initialize the 4 python libraries that you are going to use"
   ]
  },
  {
   "cell_type": "markdown",
   "id": "1568ca3d-6fc3-4a9a-aa4b-2c4928b49509",
   "metadata": {},
   "source": [
    "2. Define a new function to calculate the average between two values which input two values (refer to python introduction report to refresh yourself about functions)"
   ]
  },
  {
   "cell_type": "markdown",
   "id": "52130877-4582-4604-bce5-1db7f3119916",
   "metadata": {},
   "source": [
    "3. Define a new function to calculate molarity from titration which inputs three values:\n",
    "\n",
    "   a) Molarity of NaOH\n",
    "\n",
    "   b) the volume in ml used in titration\n",
    "\n",
    "   c) total volume of the aliquot taken for titration"
   ]
  },
  {
   "cell_type": "markdown",
   "id": "c61793ad-3a88-4f98-9e89-b50f4604c1a7",
   "metadata": {},
   "source": [
    "4. Declare the following variables: (M of NaOH used, Total Volume of each sample in liters)"
   ]
  },
  {
   "cell_type": "code",
   "execution_count": null,
   "id": "31f8fe21-1a47-4ee6-b630-476e688dfcfa",
   "metadata": {},
   "outputs": [],
   "source": [
    "MNaOH = \n",
    "TotVol = "
   ]
  },
  {
   "cell_type": "markdown",
   "id": "a8a3970f-5c14-498d-b666-b7ce2f9139a5",
   "metadata": {},
   "source": [
    "5. Use the function you created in step 3, to calculate a new variable called M0 (Initial Molarity) for the blank"
   ]
  },
  {
   "cell_type": "markdown",
   "id": "99ba97fa-43e8-4ccf-9d49-0c0c0383a87e",
   "metadata": {},
   "source": [
    "6. a) Create an empty list called V.\n",
    "  \n",
    "   b) Create 2 lists and fill it with your data: (volume used in titration1, volume used in titration 2) ***do not input blank data***\n",
    "\n",
    "   c) Use the for loop and the function you created in step 2, to calculate the average of each run and append it into the empty list V."
   ]
  },
  {
   "cell_type": "markdown",
   "id": "9309a171-59d1-4670-abc1-3aed8aa342a8",
   "metadata": {},
   "source": [
    "7. Create 2 lists and fill it with your data: (mass of the carbon, volume of aliquot taken per titration) ***do not input blank data***"
   ]
  },
  {
   "cell_type": "markdown",
   "id": "2968ed59-f522-493b-93ac-6fa33c720c23",
   "metadata": {},
   "source": [
    "8. a) Create an empty list called M\n",
    "\n",
    "   b) Use the for loop and the function you created in step 3, to calculate the molarity for each titration and append it into the empty list M."
   ]
  },
  {
   "cell_type": "markdown",
   "id": "2ebcac68-a0a7-4947-bec0-ea43d7923b1d",
   "metadata": {},
   "source": [
    "9. a) Create an empty list called C.\n",
    "   \n",
    "    b) Use the for loop to calculate the concentration adsorbed by the adsorbate (M0 - M) and append it to C."
   ]
  },
  {
   "cell_type": "markdown",
   "id": "f00a8b06-e9d5-46f8-93f8-2f8ec3729afd",
   "metadata": {},
   "source": [
    "10. a) create an empty list called q\n",
    "\n",
    "    b) Use the for loop to calculate the capacity of adsorption (see theorethical part of procedure) and append it to q."
   ]
  },
  {
   "cell_type": "markdown",
   "id": "fb458d75-90aa-42e1-a664-afca02f1ba65",
   "metadata": {},
   "source": [
    "11. a) create two empty lists called logq and logc\n",
    "\n",
    "    b) Use the for loop to calculate the log in base 10 for each value of q and C and append it to logq and logc respectively.\n",
    "\n"
   ]
  },
  {
   "cell_type": "markdown",
   "id": "09ec265c-ca2a-408a-8bc7-bfa46b34841d",
   "metadata": {},
   "source": [
    "12. Plot the linear version of the Freundlich Isotherm, do the linear regression and calculate the slope and intercept."
   ]
  },
  {
   "cell_type": "markdown",
   "id": "b2a5956e-9b5d-4349-85d7-8bfa669c0104",
   "metadata": {},
   "source": [
    "13. Calculate the Freundlich parameters"
   ]
  },
  {
   "cell_type": "markdown",
   "id": "760c130f-fddf-4c86-a9c2-fb999d7159d5",
   "metadata": {},
   "source": [
    "14. ***Challege:*** Prepare all the variables you need AND plot the Langmuir Isotherm (linear version) "
   ]
  },
  {
   "cell_type": "markdown",
   "id": "03778f02-8822-4c3c-bfa4-0601c3509792",
   "metadata": {},
   "source": [
    "16. Is it linear? Is it possible to calculate the Langmuir parameters"
   ]
  },
  {
   "cell_type": "raw",
   "id": "4e989e34-6ca5-4f23-8632-fba82a2b854d",
   "metadata": {},
   "source": [
    "17. Create a Table of Results where you show the R^2 values for the Frendlich and the Langmuir (if possible) parameters"
   ]
  },
  {
   "cell_type": "markdown",
   "id": "33506bf4-f3f6-43b9-9255-0c30db00e705",
   "metadata": {},
   "source": [
    "18. Write a short discussion about the experiment: discuss about which isotherm your experiment follows, which values were removed to fit the Langmuir isotherm, difference between the langmuir k and freundlich k, etc."
   ]
  }
 ],
 "metadata": {
  "kernelspec": {
   "display_name": "Python 3 (ipykernel)",
   "language": "python",
   "name": "python3"
  },
  "language_info": {
   "codemirror_mode": {
    "name": "ipython",
    "version": 3
   },
   "file_extension": ".py",
   "mimetype": "text/x-python",
   "name": "python",
   "nbconvert_exporter": "python",
   "pygments_lexer": "ipython3",
   "version": "3.12.4"
  }
 },
 "nbformat": 4,
 "nbformat_minor": 5
}
