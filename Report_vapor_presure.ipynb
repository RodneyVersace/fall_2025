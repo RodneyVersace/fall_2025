{
 "cells": [
  {
   "cell_type": "markdown",
   "id": "49344351-83de-45f6-a76e-d8a9db2f7fdd",
   "metadata": {},
   "source": [
    "# Report Exp 5: Vapor Pressure of Liquids #"
   ]
  },
  {
   "cell_type": "markdown",
   "id": "27249005-1f46-47bf-9727-5977174b4a63",
   "metadata": {},
   "source": [
    "1. Initialize your libraries"
   ]
  },
  {
   "cell_type": "markdown",
   "id": "470a2300-4c92-4488-aeaf-688fd4122a09",
   "metadata": {},
   "source": [
    "2. Convert the Celsius temperatures to Kelvin (K)."
   ]
  },
  {
   "cell_type": "markdown",
   "id": "2c99ce38-ee84-4c4a-89d7-35ae4cbc33c8",
   "metadata": {},
   "source": [
    "3. The measured total pressure for each trial is the sum of the vapor pressure of the liquid and the pressure due to any air trapped in the flask (see equation 1 in the introduction).\n",
    "   a) Calculate the air pressures for any of the trials that were not performed at the same temperature as the atmospheric pressure data. Hint: P1/T1 = P2/T2.\n",
    "   b) Using your measured total pressures and your air pressures corrected for higher temperatures, calculate the vapor pressure of each liquid in each of the four trials (Use equation 1 from introduction) "
   ]
  },
  {
   "cell_type": "markdown",
   "id": "5223c9fb-cc6d-492f-8a0e-b97ea76a9250",
   "metadata": {},
   "source": [
    "4. Print out a graph of vapor pressure (kPa) vs. temperature (K).\n",
    "Notes:\n",
    " \tOverlay the data for both liquids on the same plot.\n",
    " \tTemperature is the independent variable (x) and vapor pressure is the dependent variable (y)\n",
    " \n",
    " \t***Be sure to plot the vapor pressure, not the measured total pressure***\n"
   ]
  },
  {
   "cell_type": "markdown",
   "id": "d0900140-b8d7-49da-8dcb-dd52131eccae",
   "metadata": {},
   "source": [
    "5. Prepare a linear graph using the Clausius-Clapeyron relationship (Eq 3. Introduction). Do the linear regression and include the equations for the best-fit lines on the plot"
   ]
  },
  {
   "cell_type": "markdown",
   "id": "048380e1-61f6-4639-b8ff-d63553cfd977",
   "metadata": {},
   "source": [
    "6. Obtain your experimental dH for each liquid"
   ]
  },
  {
   "cell_type": "markdown",
   "id": "c7c9e4a3-4a75-44af-a45e-a966d5903688",
   "metadata": {},
   "source": [
    "7. Calculate percent error for each enthalpy of vaporization (literature values are for methanol, 35.21 kJ/mol, for ethanol, 38.56 kJ/mol) "
   ]
  },
  {
   "cell_type": "markdown",
   "id": "96a2b391-eba5-4b75-8a9a-407fd0341142",
   "metadata": {},
   "source": [
    "8. Using the second version of the clayperon equation calculate (Eq 4. Introduction) Calculate the Vapor Pressure of methanol at another (chosen by you) temperature.  "
   ]
  },
  {
   "cell_type": "markdown",
   "id": "610f398f-c51c-4e1e-9c56-b7c04d89d048",
   "metadata": {},
   "source": [
    "9.  Using the second version of the clayperon equation calculate (Eq 4. Introduction) Calculate the Vapor Pressure of ethanol at another (chosen by you) temperature. "
   ]
  },
  {
   "cell_type": "markdown",
   "id": "c7ffd328-98b3-4e17-b589-6fc7939b7d27",
   "metadata": {},
   "source": [
    "10. Create a summary table that includes: temperature in Celcius, Temperature in Kelvin, total pressure, pressure of air, and vapor pressure  (two table total, one per each liquid)"
   ]
  },
  {
   "cell_type": "markdown",
   "id": "69e60964-b19f-4529-be69-3b65e236c629",
   "metadata": {},
   "source": [
    "11. Create a table showing the enthalpy of vaporization from literature and experimental, percent errors, and the pressure and temperature calculated by equation 4 for each liquid"
   ]
  },
  {
   "cell_type": "markdown",
   "id": "870d7e7f-44bc-435c-b506-951797abcf6a",
   "metadata": {},
   "source": [
    "Answer the following questions"
   ]
  },
  {
   "cell_type": "markdown",
   "id": "299fa147-9917-41e9-b0d7-0f050bc98fb3",
   "metadata": {},
   "source": [
    "1) Examining your first graph, how would you describe the relationship between vapor pressure and temperature? Is it linear? Explain this relationship in terms of the kinetic energy of the molecules."
   ]
  },
  {
   "cell_type": "markdown",
   "id": "7da35fb1-63f9-401c-90be-b639c4a42caf",
   "metadata": {},
   "source": [
    "2)\tHow can you tell which liquid has the highest enthalpy of vaporization by quickly glancing at a Clausius-Clapeyron plot of superimposed data?"
   ]
  },
  {
   "cell_type": "markdown",
   "id": "45d8243f-3325-4d1c-b448-35bbe5097cde",
   "metadata": {},
   "source": [
    "3. How does enthalpy of vaporization correlate to strength of intermolecular forces and vapor pressure of a sample?"
   ]
  },
  {
   "cell_type": "markdown",
   "id": "421ab33b-a300-4261-92a5-cfaf41d33cf0",
   "metadata": {},
   "source": [
    "4)\tIn each pair, make bold (***) the substance that would have the higher enthalpy of vaporization.\n",
    "   \n",
    "a.\thexanol or hexane\n",
    "\n",
    "b.\tpropanol or butanol\n",
    "\n",
    "c.\tdimethyl ether or ethanol\n",
    "\n",
    "d.\tpentanoic acid or pentanal\n"
   ]
  },
  {
   "cell_type": "markdown",
   "id": "3b67180a-21fe-4569-a776-06ddc53bc265",
   "metadata": {},
   "source": [
    "5. Would water or methanol have the higher enthalpy of vaporization? Explain your reasoning."
   ]
  },
  {
   "cell_type": "markdown",
   "id": "bb1bbad2-fc67-4c17-a25f-46615d1f350d",
   "metadata": {},
   "source": [
    "6. If the experiment was started with a wet flask, would the experimental value of the enthalpy of vaporization be higher, lower, or the same as the actual value? Explain."
   ]
  },
  {
   "cell_type": "code",
   "execution_count": null,
   "id": "af65da3d-4f5f-4e29-ac86-699b6c954b03",
   "metadata": {},
   "outputs": [],
   "source": []
  }
 ],
 "metadata": {
  "kernelspec": {
   "display_name": "Python 3 (ipykernel)",
   "language": "python",
   "name": "python3"
  },
  "language_info": {
   "codemirror_mode": {
    "name": "ipython",
    "version": 3
   },
   "file_extension": ".py",
   "mimetype": "text/x-python",
   "name": "python",
   "nbconvert_exporter": "python",
   "pygments_lexer": "ipython3",
   "version": "3.12.4"
  }
 },
 "nbformat": 4,
 "nbformat_minor": 5
}
